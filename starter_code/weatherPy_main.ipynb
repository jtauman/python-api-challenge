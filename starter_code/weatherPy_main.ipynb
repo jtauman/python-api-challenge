{
 "cells": [
  {
   "cell_type": "markdown",
   "metadata": {},
   "source": [
    "# WeatherPy\n",
    "----\n",
    "\n",
    "#### Note\n",
    "* Instructions have been included for each segment. You do not have to follow them exactly, but they are included to help you think through the steps."
   ]
  },
  {
   "cell_type": "code",
   "execution_count": 1,
   "metadata": {
    "scrolled": true
   },
   "outputs": [],
   "source": [
    "# Dependencies and Setup\n",
    "import matplotlib.pyplot as plt\n",
    "import pandas as pd\n",
    "import numpy as np\n",
    "import requests\n",
    "import time\n",
    "from scipy.stats import linregress\n",
    "\n",
    "# Import API key\n",
    "from api_keys import weather_api_key\n",
    "\n",
    "# Incorporated citipy to determine city based on latitude and longitude\n",
    "from citipy import citipy\n",
    "\n",
    "# Output File (CSV)\n",
    "output_data_file = \"../output_data/cities.csv\"\n",
    "\n",
    "# Range of latitudes and longitudes\n",
    "lat_range = (-90, 90)\n",
    "lng_range = (-180, 180)"
   ]
  },
  {
   "cell_type": "markdown",
   "metadata": {},
   "source": [
    "## Generate Cities List"
   ]
  },
  {
   "cell_type": "code",
   "execution_count": 2,
   "metadata": {},
   "outputs": [
    {
     "data": {
      "text/plain": [
       "{'coord': {'lon': 13.41, 'lat': 52.52},\n",
       " 'weather': [{'id': 800,\n",
       "   'main': 'Clear',\n",
       "   'description': 'clear sky',\n",
       "   'icon': '01n'}],\n",
       " 'base': 'stations',\n",
       " 'main': {'temp': 58.98,\n",
       "  'feels_like': 58.21,\n",
       "  'temp_min': 55.4,\n",
       "  'temp_max': 63,\n",
       "  'pressure': 1018,\n",
       "  'humidity': 76},\n",
       " 'visibility': 10000,\n",
       " 'wind': {'speed': 2.24, 'deg': 0},\n",
       " 'clouds': {'all': 0},\n",
       " 'dt': 1594688384,\n",
       " 'sys': {'type': 1,\n",
       "  'id': 1275,\n",
       "  'country': 'DE',\n",
       "  'sunrise': 1594695640,\n",
       "  'sunset': 1594754605},\n",
       " 'timezone': 7200,\n",
       " 'id': 2950159,\n",
       " 'name': 'Berlin',\n",
       " 'cod': 200}"
      ]
     },
     "execution_count": 2,
     "metadata": {},
     "output_type": "execute_result"
    }
   ],
   "source": [
    "city = \"Berlin\"\n",
    "\n",
    "url = \"http://api.openweathermap.org/data/2.5/weather?\"\n",
    "units = \"imperial\"\n",
    "\n",
    "query_url = f\"{url}appid={weather_api_key}&units={units}&q=\"\n",
    "response = requests.get(query_url + city).json()\n",
    "response\n"
   ]
  },
  {
   "cell_type": "code",
   "execution_count": null,
   "metadata": {},
   "outputs": [],
   "source": [
    "temp = response[\"main\"][\"temp_max\"]\n",
    "temp\n"
   ]
  },
  {
   "cell_type": "code",
   "execution_count": 3,
   "metadata": {},
   "outputs": [
    {
     "data": {
      "text/plain": [
       "613"
      ]
     },
     "execution_count": 3,
     "metadata": {},
     "output_type": "execute_result"
    }
   ],
   "source": [
    "# List for holding lat_lngs and cities\n",
    "lat_lngs = []\n",
    "cities = []\n",
    "\n",
    "# Create a set of random lat and lng combinations\n",
    "lats = np.random.uniform(lat_range[0], lat_range[1], size=1500)\n",
    "lngs = np.random.uniform(lng_range[0], lng_range[1], size=1500)\n",
    "lat_lngs = zip(lats, lngs)\n",
    "\n",
    "# Identify nearest city for each lat, lng combination\n",
    "for lat_lng in lat_lngs:\n",
    "    city = citipy.nearest_city(lat_lng[0], lat_lng[1]).city_name\n",
    "    \n",
    "    # If the city is unique, then add it to a our cities list\n",
    "    if city not in cities:\n",
    "        cities.append(city)\n",
    "\n",
    "# Print the city count to confirm sufficient count\n",
    "len(cities)\n"
   ]
  },
  {
   "cell_type": "code",
   "execution_count": 4,
   "metadata": {},
   "outputs": [
    {
     "data": {
      "text/html": [
       "<div>\n",
       "<style scoped>\n",
       "    .dataframe tbody tr th:only-of-type {\n",
       "        vertical-align: middle;\n",
       "    }\n",
       "\n",
       "    .dataframe tbody tr th {\n",
       "        vertical-align: top;\n",
       "    }\n",
       "\n",
       "    .dataframe thead th {\n",
       "        text-align: right;\n",
       "    }\n",
       "</style>\n",
       "<table border=\"1\" class=\"dataframe\">\n",
       "  <thead>\n",
       "    <tr style=\"text-align: right;\">\n",
       "      <th></th>\n",
       "      <th>City</th>\n",
       "    </tr>\n",
       "  </thead>\n",
       "  <tbody>\n",
       "    <tr>\n",
       "      <th>0</th>\n",
       "      <td>kota</td>\n",
       "    </tr>\n",
       "    <tr>\n",
       "      <th>1</th>\n",
       "      <td>upernavik</td>\n",
       "    </tr>\n",
       "    <tr>\n",
       "      <th>2</th>\n",
       "      <td>ushuaia</td>\n",
       "    </tr>\n",
       "    <tr>\n",
       "      <th>3</th>\n",
       "      <td>adelaide</td>\n",
       "    </tr>\n",
       "    <tr>\n",
       "      <th>4</th>\n",
       "      <td>bengkulu</td>\n",
       "    </tr>\n",
       "  </tbody>\n",
       "</table>\n",
       "</div>"
      ],
      "text/plain": [
       "        City\n",
       "0       kota\n",
       "1  upernavik\n",
       "2    ushuaia\n",
       "3   adelaide\n",
       "4   bengkulu"
      ]
     },
     "execution_count": 4,
     "metadata": {},
     "output_type": "execute_result"
    }
   ],
   "source": [
    "cities_df = pd.DataFrame({\"City\": cities})\n",
    "cities_df.head()"
   ]
  },
  {
   "cell_type": "markdown",
   "metadata": {},
   "source": [
    "### Perform API Calls\n",
    "* Perform a weather check on each city using a series of successive API calls.\n",
    "* Include a print log of each city as it'sbeing processed (with the city number and city name).\n"
   ]
  },
  {
   "cell_type": "code",
   "execution_count": 5,
   "metadata": {},
   "outputs": [
    {
     "name": "stdout",
     "output_type": "stream",
     "text": [
      "Begin data processing:\n",
      "----------------------\n",
      "Processing record 2 of 613 | kota\n",
      "Processing record 3 of 613 | upernavik\n",
      "Processing record 4 of 613 | ushuaia\n",
      "Processing record 5 of 613 | adelaide\n",
      "Processing record 6 of 613 | bengkulu\n",
      "Processing record 7 of 613 | hami\n",
      "Processing record 8 of 613 | tautira\n",
      "Processing record 9 of 613 | hithadhoo\n",
      "Processing record 10 of 613 | bluff\n",
      "Processing record 11 of 613 | severo-kurilsk\n",
      "Processing record 12 of 613 | butaritari\n",
      "Processing record 13 of 613 | lompoc\n",
      "Processing record 14 of 613 | te anau\n",
      "Processing record 15 of 613 | takoradi\n",
      "Processing record 16 of 613 | chumikan\n",
      "Processing record 17 of 613 | kodiak\n",
      "Processing record 18 of 613 | rikitea\n",
      "Processing record 19 of 613 | vestmannaeyjar\n",
      "Processing record 20 of 613 | carnarvon\n",
      "Processing record 21 of 613 | middlesbrough\n",
      "Processing record 22 of 613 | grindavik\n",
      "Processing record 23 of 613 | chapais\n",
      "Processing record 24 of 613 | punta arenas\n",
      "Processing record 25 of 613 | caravelas\n",
      "Processing record 26 of 613 | havoysund\n",
      "Processing record 27 of 613 | bethel\n",
      "Processing record 28 of 613 | sao filipe\n",
      "Processing record 29 of 613 | lorengau\n",
      "Processing record 30 of 613 | castro\n",
      "Processing record 31 of 613 | chokurdakh\n",
      "Processing record 32 of 613 | thompson\n",
      "Processing record 33 of 613 | tezu\n",
      "Processing record 34 of 613 | geraldton\n",
      "Processing record 35 of 613 | sosnogorsk\n",
      "Processing record 36 of 613 | zhezkazgan\n",
      "Processing record 37 of 613 | colares\n",
      "Processing record 38 of 613 | mbekenyera\n",
      "Processing record 39 of 613 | san cristobal\n",
      "Processing record 40 of 613 | mahebourg\n",
      "Processing record 41 of 613 | hilo\n",
      "Processing record 42 of 613 | lebu\n",
      "Processing record 43 of 613 | lagos\n",
      "City not found.  Skipping.\n",
      "Processing record 44 of 613 | mataura\n",
      "City not found.  Skipping.\n",
      "Processing record 45 of 613 | qaanaaq\n",
      "Processing record 46 of 613 | airai\n",
      "Processing record 47 of 613 | ponta do sol\n",
      "Processing record 48 of 613 | tiksi\n",
      "Processing record 49 of 613 | aykhal\n",
      "Processing record 50 of 613 | aswan\n",
      "Processing record 51 of 613 | ribeira grande\n",
      "Processing record 52 of 613 | turbat\n",
      "Processing record 53 of 613 | ustyuzhna\n",
      "Processing record 54 of 613 | tasiilaq\n",
      "Processing record 55 of 613 | clyde river\n",
      "Processing record 56 of 613 | marshall\n",
      "Processing record 57 of 613 | chuy\n",
      "Processing record 58 of 613 | portland\n",
      "Processing record 59 of 613 | talnakh\n",
      "City not found.  Skipping.\n",
      "Processing record 60 of 613 | longyearbyen\n",
      "Processing record 61 of 613 | ancud\n",
      "Processing record 62 of 613 | busselton\n",
      "Processing record 63 of 613 | kapaa\n",
      "Processing record 64 of 613 | iguape\n",
      "Processing record 65 of 613 | avarua\n",
      "Processing record 66 of 613 | georgetown\n",
      "Processing record 67 of 613 | komsomolskiy\n",
      "City not found.  Skipping.\n",
      "Processing record 68 of 613 | arraial do cabo\n",
      "Processing record 69 of 613 | pozo colorado\n",
      "Processing record 70 of 613 | astoria\n",
      "City not found.  Skipping.\n",
      "Processing record 71 of 613 | kindu\n",
      "Processing record 72 of 613 | goundam\n",
      "Processing record 73 of 613 | luis correia\n",
      "Processing record 74 of 613 | port elizabeth\n",
      "Processing record 75 of 613 | hobart\n",
      "Processing record 76 of 613 | mezhdurechensk\n",
      "Processing record 77 of 613 | morehead\n",
      "Processing record 78 of 613 | bantva\n",
      "Processing record 79 of 613 | pevek\n",
      "Processing record 80 of 613 | genhe\n",
      "Processing record 81 of 613 | karasuk\n",
      "Processing record 82 of 613 | jamestown\n",
      "Processing record 83 of 613 | moose factory\n",
      "Processing record 84 of 613 | atuona\n",
      "Processing record 85 of 613 | saskylakh\n",
      "Processing record 86 of 613 | omaruru\n",
      "Processing record 87 of 613 | chapleau\n",
      "Processing record 88 of 613 | vaini\n",
      "Processing record 89 of 613 | baoro\n",
      "Processing record 90 of 613 | tuktoyaktuk\n",
      "Processing record 91 of 613 | yar-sale\n",
      "Processing record 92 of 613 | panormos\n",
      "Processing record 93 of 613 | barrow\n",
      "City not found.  Skipping.\n",
      "Processing record 94 of 613 | hermanus\n",
      "Processing record 95 of 613 | black river\n",
      "Processing record 96 of 613 | saint-philippe\n",
      "Processing record 97 of 613 | laguna\n",
      "Processing record 98 of 613 | west plains\n",
      "Processing record 99 of 613 | mosquera\n",
      "Processing record 100 of 613 | nikolskoye\n",
      "Processing record 101 of 613 | elko\n",
      "Processing record 102 of 613 | kavieng\n",
      "Processing record 103 of 613 | bredasdorp\n",
      "Processing record 104 of 613 | norman wells\n",
      "Processing record 105 of 613 | goundi\n",
      "Processing record 106 of 613 | dasoguz\n",
      "Processing record 107 of 613 | ishurdi\n",
      "Processing record 108 of 613 | senador jose porfirio\n",
      "Processing record 109 of 613 | nome\n",
      "Processing record 110 of 613 | wausau\n",
      "Processing record 111 of 613 | fallon\n",
      "Processing record 112 of 613 | penzance\n",
      "Processing record 113 of 613 | albany\n",
      "Processing record 114 of 613 | tura\n",
      "Processing record 115 of 613 | dikson\n",
      "Processing record 116 of 613 | itaueira\n",
      "Processing record 117 of 613 | alofi\n",
      "Processing record 118 of 613 | boulder\n",
      "City not found.  Skipping.\n",
      "Processing record 119 of 613 | kieta\n",
      "Processing record 120 of 613 | greeneville\n",
      "Processing record 121 of 613 | khatanga\n",
      "City not found.  Skipping.\n",
      "City not found.  Skipping.\n",
      "Processing record 122 of 613 | auki\n",
      "Processing record 123 of 613 | kruisfontein\n",
      "Processing record 124 of 613 | mar del plata\n",
      "Processing record 125 of 613 | victoria\n",
      "Processing record 126 of 613 | krasnyy chikoy\n",
      "Processing record 127 of 613 | olafsvik\n",
      "Processing record 128 of 613 | qaqortoq\n",
      "Processing record 129 of 613 | esperance\n",
      "Processing record 130 of 613 | new norfolk\n",
      "Processing record 131 of 613 | turayf\n",
      "Processing record 132 of 613 | saint-pierre\n",
      "Processing record 133 of 613 | belmonte\n",
      "Processing record 134 of 613 | maragogi\n",
      "City not found.  Skipping.\n",
      "Processing record 135 of 613 | asau\n",
      "Processing record 136 of 613 | barauna\n",
      "Processing record 137 of 613 | namibe\n",
      "Processing record 138 of 613 | tilichiki\n",
      "Processing record 139 of 613 | yellowknife\n",
      "Processing record 140 of 613 | toora-khem\n",
      "Processing record 141 of 613 | diamantino\n",
      "Processing record 142 of 613 | paoua\n",
      "Processing record 143 of 613 | terney\n",
      "Processing record 144 of 613 | lensk\n",
      "Processing record 145 of 613 | faya\n",
      "Processing record 146 of 613 | ulladulla\n",
      "Processing record 147 of 613 | tazovskiy\n",
      "Processing record 148 of 613 | broome\n",
      "Processing record 149 of 613 | rivadavia\n",
      "Processing record 150 of 613 | husavik\n",
      "Processing record 151 of 613 | cherskiy\n",
      "Processing record 152 of 613 | itaituba\n",
      "Processing record 153 of 613 | cartagena\n",
      "Processing record 154 of 613 | kologriv\n",
      "Processing record 155 of 613 | pisco\n",
      "Processing record 156 of 613 | altay\n",
      "Processing record 157 of 613 | palmer\n",
      "Processing record 158 of 613 | santiago\n",
      "City not found.  Skipping.\n",
      "Processing record 159 of 613 | leningradskiy\n",
      "Processing record 160 of 613 | puerto baquerizo moreno\n",
      "Processing record 161 of 613 | waingapu\n",
      "City not found.  Skipping.\n",
      "Processing record 162 of 613 | torbay\n",
      "Processing record 163 of 613 | roswell\n",
      "Processing record 164 of 613 | dalby\n",
      "City not found.  Skipping.\n",
      "Processing record 165 of 613 | saldanha\n",
      "Processing record 166 of 613 | belaya gora\n",
      "Processing record 167 of 613 | labuan\n",
      "Processing record 168 of 613 | flin flon\n",
      "Processing record 169 of 613 | thunder bay\n",
      "Processing record 170 of 613 | axim\n",
      "City not found.  Skipping.\n",
      "Processing record 171 of 613 | kiunga\n",
      "Processing record 172 of 613 | vao\n",
      "Processing record 173 of 613 | tambun\n",
      "Processing record 174 of 613 | jos\n",
      "Processing record 175 of 613 | chiaravalle\n",
      "Processing record 176 of 613 | egvekinot\n",
      "Processing record 177 of 613 | oyem\n",
      "Processing record 178 of 613 | haimen\n",
      "Processing record 179 of 613 | pangnirtung\n",
      "Processing record 180 of 613 | sobolevo\n",
      "Processing record 181 of 613 | lamesa\n",
      "Processing record 182 of 613 | harindanga\n",
      "Processing record 183 of 613 | souillac\n",
      "Processing record 184 of 613 | acapulco\n",
      "Processing record 185 of 613 | bilibino\n",
      "Processing record 186 of 613 | eydhafushi\n",
      "Processing record 187 of 613 | vila franca do campo\n",
      "Processing record 188 of 613 | saint-augustin\n",
      "Processing record 189 of 613 | cape town\n",
      "Processing record 190 of 613 | guerrero negro\n",
      "Processing record 191 of 613 | sao simao\n",
      "Processing record 192 of 613 | port alfred\n",
      "Processing record 193 of 613 | humberto de campos\n",
      "Processing record 194 of 613 | alice springs\n",
      "Processing record 195 of 613 | ahipara\n",
      "Processing record 196 of 613 | la ronge\n",
      "Processing record 197 of 613 | itarema\n"
     ]
    },
    {
     "name": "stdout",
     "output_type": "stream",
     "text": [
      "Processing record 198 of 613 | jining\n",
      "City not found.  Skipping.\n",
      "Processing record 199 of 613 | saint anthony\n",
      "Processing record 200 of 613 | puerto ayora\n",
      "Processing record 201 of 613 | clifton\n",
      "Processing record 202 of 613 | hohhot\n",
      "Processing record 203 of 613 | meadow lake\n",
      "Processing record 204 of 613 | barahona\n",
      "Processing record 205 of 613 | kamina\n",
      "Processing record 206 of 613 | khairpur nathan shah\n",
      "City not found.  Skipping.\n",
      "Processing record 207 of 613 | forio\n",
      "Processing record 208 of 613 | lillooet\n",
      "Processing record 209 of 613 | okha\n",
      "Processing record 210 of 613 | bilma\n",
      "Processing record 211 of 613 | linhares\n",
      "Processing record 212 of 613 | siparia\n",
      "Processing record 213 of 613 | alihe\n",
      "Processing record 214 of 613 | pinega\n",
      "Processing record 215 of 613 | avera\n",
      "Processing record 216 of 613 | lasa\n",
      "Processing record 217 of 613 | novyy urengoy\n",
      "City not found.  Skipping.\n",
      "Processing record 218 of 613 | kielce\n",
      "Processing record 219 of 613 | pundaguitan\n",
      "Processing record 220 of 613 | east london\n",
      "Processing record 221 of 613 | along\n",
      "Processing record 222 of 613 | adamovka\n",
      "Processing record 223 of 613 | faanui\n",
      "Processing record 224 of 613 | konevo\n",
      "Processing record 225 of 613 | rypefjord\n",
      "Processing record 226 of 613 | bambous virieux\n",
      "Processing record 227 of 613 | codrington\n",
      "City not found.  Skipping.\n",
      "Processing record 228 of 613 | cayenne\n",
      "City not found.  Skipping.\n",
      "Processing record 229 of 613 | shieli\n",
      "Processing record 230 of 613 | mitsamiouli\n",
      "Processing record 231 of 613 | vostok\n",
      "City not found.  Skipping.\n",
      "Processing record 232 of 613 | hervey bay\n",
      "Processing record 233 of 613 | kaitangata\n",
      "Processing record 234 of 613 | nuuk\n",
      "Processing record 235 of 613 | senekal\n",
      "Processing record 236 of 613 | pakxan\n",
      "Processing record 237 of 613 | sri aman\n",
      "Processing record 238 of 613 | dingle\n",
      "Processing record 239 of 613 | fort nelson\n",
      "Processing record 240 of 613 | klaksvik\n",
      "Processing record 241 of 613 | pokhara\n",
      "Processing record 242 of 613 | tarquinia\n",
      "Processing record 243 of 613 | dongsheng\n",
      "Processing record 244 of 613 | saint-ambroise\n",
      "Processing record 245 of 613 | tuatapere\n",
      "Processing record 246 of 613 | mahibadhoo\n",
      "Processing record 247 of 613 | lavrentiya\n",
      "Processing record 248 of 613 | antalaha\n",
      "City not found.  Skipping.\n",
      "Processing record 249 of 613 | kavaratti\n",
      "Processing record 250 of 613 | hvide sande\n",
      "Processing record 251 of 613 | fortuna\n",
      "Processing record 252 of 613 | gornopravdinsk\n",
      "Processing record 253 of 613 | san patricio\n",
      "Processing record 254 of 613 | maua\n",
      "Processing record 255 of 613 | pacific grove\n",
      "City not found.  Skipping.\n",
      "Processing record 256 of 613 | provideniya\n",
      "City not found.  Skipping.\n",
      "Processing record 257 of 613 | comarapa\n",
      "Processing record 258 of 613 | datong\n",
      "Processing record 259 of 613 | aklavik\n",
      "Processing record 260 of 613 | peniche\n",
      "Processing record 261 of 613 | jalu\n",
      "Processing record 262 of 613 | saint-francois\n",
      "Processing record 263 of 613 | knysna\n",
      "City not found.  Skipping.\n",
      "Processing record 264 of 613 | cidreira\n",
      "Processing record 265 of 613 | yulara\n",
      "Processing record 266 of 613 | coihaique\n",
      "Processing record 267 of 613 | natal\n",
      "Processing record 268 of 613 | mocuba\n",
      "Processing record 269 of 613 | ariquemes\n",
      "Processing record 270 of 613 | nampa\n",
      "Processing record 271 of 613 | port hardy\n",
      "Processing record 272 of 613 | huarmey\n",
      "Processing record 273 of 613 | arlit\n",
      "Processing record 274 of 613 | rosetta\n",
      "Processing record 275 of 613 | palembang\n",
      "Processing record 276 of 613 | pimentel\n",
      "Processing record 277 of 613 | brae\n",
      "Processing record 278 of 613 | narsaq\n",
      "Processing record 279 of 613 | ikryanoye\n",
      "Processing record 280 of 613 | cabo san lucas\n",
      "Processing record 281 of 613 | plateros\n",
      "City not found.  Skipping.\n",
      "Processing record 282 of 613 | samarai\n",
      "Processing record 283 of 613 | los llanos de aridane\n",
      "Processing record 284 of 613 | ostrovnoy\n",
      "Processing record 285 of 613 | poykovskiy\n",
      "City not found.  Skipping.\n",
      "Processing record 286 of 613 | butembo\n",
      "Processing record 287 of 613 | honiara\n",
      "Processing record 288 of 613 | nishihara\n",
      "Processing record 289 of 613 | shestakovo\n",
      "Processing record 290 of 613 | tottori\n",
      "Processing record 291 of 613 | ortakoy\n",
      "Processing record 292 of 613 | teya\n",
      "Processing record 293 of 613 | manta\n",
      "Processing record 294 of 613 | roald\n",
      "Processing record 295 of 613 | guilin\n",
      "Processing record 296 of 613 | flinders\n",
      "Processing record 297 of 613 | lagoa\n",
      "Processing record 298 of 613 | hope\n",
      "Processing record 299 of 613 | presidencia roque saenz pena\n",
      "Processing record 300 of 613 | chitradurga\n",
      "Processing record 301 of 613 | solnechnyy\n",
      "Processing record 302 of 613 | gat\n",
      "City not found.  Skipping.\n",
      "Processing record 303 of 613 | mlowo\n",
      "Processing record 304 of 613 | riyadh\n",
      "Processing record 305 of 613 | leh\n",
      "Processing record 306 of 613 | kulhudhuffushi\n",
      "City not found.  Skipping.\n",
      "Processing record 307 of 613 | northam\n",
      "Processing record 308 of 613 | puqi\n",
      "Processing record 309 of 613 | orsha\n",
      "Processing record 310 of 613 | selje\n",
      "Processing record 311 of 613 | isangel\n",
      "Processing record 312 of 613 | kawalu\n",
      "Processing record 313 of 613 | abha\n",
      "Processing record 314 of 613 | petropavlovsk-kamchatskiy\n",
      "Processing record 315 of 613 | aripuana\n",
      "Processing record 316 of 613 | aromashevo\n",
      "Processing record 317 of 613 | mount darwin\n",
      "City not found.  Skipping.\n",
      "City not found.  Skipping.\n",
      "Processing record 318 of 613 | viedma\n",
      "Processing record 319 of 613 | ust-kuyga\n",
      "Processing record 320 of 613 | henties bay\n",
      "Processing record 321 of 613 | fengcheng\n",
      "Processing record 322 of 613 | road town\n",
      "Processing record 323 of 613 | beloha\n",
      "Processing record 324 of 613 | sawtell\n",
      "Processing record 325 of 613 | necochea\n",
      "Processing record 326 of 613 | tukrah\n",
      "Processing record 327 of 613 | kirakira\n",
      "Processing record 328 of 613 | porto novo\n",
      "City not found.  Skipping.\n",
      "Processing record 329 of 613 | san matias\n",
      "Processing record 330 of 613 | mbuji-mayi\n",
      "Processing record 331 of 613 | daru\n",
      "City not found.  Skipping.\n",
      "Processing record 332 of 613 | teahupoo\n",
      "Processing record 333 of 613 | enid\n",
      "City not found.  Skipping.\n",
      "Processing record 334 of 613 | murwillumbah\n",
      "Processing record 335 of 613 | angoche\n",
      "City not found.  Skipping.\n",
      "Processing record 336 of 613 | ambon\n",
      "Processing record 337 of 613 | bolu\n",
      "Processing record 338 of 613 | ilulissat\n",
      "Processing record 339 of 613 | opuwo\n",
      "Processing record 340 of 613 | bealanana\n",
      "Processing record 341 of 613 | vardo\n",
      "Processing record 342 of 613 | goedereede\n",
      "Processing record 343 of 613 | nanakuli\n",
      "Processing record 344 of 613 | najran\n",
      "Processing record 345 of 613 | ho chi minh city\n",
      "Processing record 346 of 613 | hasaki\n",
      "Processing record 347 of 613 | buchanan\n",
      "Processing record 348 of 613 | miracema do tocantins\n",
      "Processing record 349 of 613 | birr\n",
      "City not found.  Skipping.\n",
      "Processing record 350 of 613 | naumburg\n",
      "Processing record 351 of 613 | hanmer springs\n",
      "Processing record 352 of 613 | selma\n",
      "Processing record 353 of 613 | vakhrushev\n",
      "Processing record 354 of 613 | bulgan\n",
      "Processing record 355 of 613 | nemuro\n",
      "Processing record 356 of 613 | jinji\n",
      "Processing record 357 of 613 | broken hill\n",
      "Processing record 358 of 613 | nanortalik\n",
      "Processing record 359 of 613 | havelock\n",
      "Processing record 360 of 613 | panjab\n",
      "Processing record 361 of 613 | caborca\n",
      "Processing record 362 of 613 | navrongo\n",
      "Processing record 363 of 613 | westport\n",
      "Processing record 364 of 613 | kaeo\n",
      "Processing record 365 of 613 | doha\n",
      "Processing record 366 of 613 | halifax\n",
      "Processing record 367 of 613 | sitka\n",
      "Processing record 368 of 613 | iqaluit\n",
      "Processing record 369 of 613 | youghal\n",
      "Processing record 370 of 613 | gravelbourg\n",
      "Processing record 371 of 613 | iquique\n",
      "Processing record 372 of 613 | hamilton\n",
      "Processing record 373 of 613 | magnitka\n",
      "Processing record 374 of 613 | gunnedah\n",
      "Processing record 375 of 613 | svetlogorsk\n",
      "Processing record 376 of 613 | mingaora\n",
      "Processing record 377 of 613 | fairbanks\n",
      "Processing record 378 of 613 | stawell\n",
      "Processing record 379 of 613 | esil\n",
      "Processing record 380 of 613 | chabahar\n",
      "Processing record 381 of 613 | zhangye\n",
      "City not found.  Skipping.\n",
      "Processing record 382 of 613 | nepomuk\n",
      "Processing record 383 of 613 | baberu\n",
      "Processing record 384 of 613 | upata\n",
      "Processing record 385 of 613 | nantucket\n",
      "Processing record 386 of 613 | touros\n",
      "Processing record 387 of 613 | malanje\n",
      "Processing record 388 of 613 | stornoway\n"
     ]
    },
    {
     "name": "stdout",
     "output_type": "stream",
     "text": [
      "Processing record 389 of 613 | poiana vadului\n",
      "Processing record 390 of 613 | kansk\n",
      "Processing record 391 of 613 | camocim\n",
      "City not found.  Skipping.\n",
      "Processing record 392 of 613 | coolum beach\n",
      "Processing record 393 of 613 | sulangan\n",
      "Processing record 394 of 613 | dunedin\n",
      "Processing record 395 of 613 | porto nacional\n",
      "Processing record 396 of 613 | vasterhaninge\n",
      "Processing record 397 of 613 | noumea\n",
      "City not found.  Skipping.\n",
      "Processing record 398 of 613 | waipawa\n",
      "Processing record 399 of 613 | haines junction\n",
      "Processing record 400 of 613 | sioux lookout\n",
      "Processing record 401 of 613 | pandan\n",
      "Processing record 402 of 613 | mehran\n",
      "Processing record 403 of 613 | parli\n",
      "Processing record 404 of 613 | klasterec nad ohri\n",
      "Processing record 405 of 613 | zhangjiakou\n",
      "Processing record 406 of 613 | berlevag\n",
      "Processing record 407 of 613 | zemio\n",
      "Processing record 408 of 613 | salekhard\n",
      "Processing record 409 of 613 | mount gambier\n",
      "Processing record 410 of 613 | jacmel\n",
      "Processing record 411 of 613 | santa rosa\n",
      "Processing record 412 of 613 | steamboat springs\n",
      "Processing record 413 of 613 | myslenice\n",
      "Processing record 414 of 613 | jinka\n",
      "Processing record 415 of 613 | blagodatnoye\n",
      "City not found.  Skipping.\n",
      "Processing record 416 of 613 | neftcala\n",
      "Processing record 417 of 613 | basco\n",
      "Processing record 418 of 613 | college\n",
      "Processing record 419 of 613 | phan thiet\n",
      "Processing record 420 of 613 | taitung\n",
      "Processing record 421 of 613 | jhargram\n",
      "Processing record 422 of 613 | sinnamary\n",
      "Processing record 423 of 613 | borovskoy\n",
      "Processing record 424 of 613 | anadyr\n",
      "City not found.  Skipping.\n",
      "City not found.  Skipping.\n",
      "City not found.  Skipping.\n",
      "City not found.  Skipping.\n",
      "Processing record 425 of 613 | yuryevets\n",
      "City not found.  Skipping.\n",
      "Processing record 426 of 613 | mesyagutovo\n",
      "Processing record 427 of 613 | raudeberg\n",
      "Processing record 428 of 613 | garoua\n",
      "Processing record 429 of 613 | saint george\n",
      "Processing record 430 of 613 | fethiye\n",
      "Processing record 431 of 613 | uige\n",
      "Processing record 432 of 613 | watrous\n",
      "Processing record 433 of 613 | corrente\n",
      "City not found.  Skipping.\n",
      "Processing record 434 of 613 | alta floresta\n",
      "Processing record 435 of 613 | walvis bay\n",
      "Processing record 436 of 613 | eureka\n",
      "Processing record 437 of 613 | yeniseysk\n",
      "Processing record 438 of 613 | qasigiannguit\n",
      "City not found.  Skipping.\n",
      "Processing record 439 of 613 | panama city\n",
      "Processing record 440 of 613 | takaka\n",
      "Processing record 441 of 613 | krasnoselkup\n",
      "Processing record 442 of 613 | konya\n",
      "Processing record 443 of 613 | columbia\n",
      "Processing record 444 of 613 | sorland\n",
      "Processing record 445 of 613 | vila velha\n",
      "Processing record 446 of 613 | svelgen\n",
      "Processing record 447 of 613 | muros\n",
      "Processing record 448 of 613 | evensk\n",
      "Processing record 449 of 613 | talcahuano\n",
      "Processing record 450 of 613 | bathsheba\n",
      "City not found.  Skipping.\n",
      "City not found.  Skipping.\n",
      "Processing record 451 of 613 | pangody\n",
      "Processing record 452 of 613 | banda aceh\n",
      "Processing record 453 of 613 | north branch\n",
      "Processing record 454 of 613 | pilar\n",
      "Processing record 455 of 613 | miraflores\n",
      "Processing record 456 of 613 | sur\n",
      "Processing record 457 of 613 | bolshaya dzhalga\n",
      "Processing record 458 of 613 | peace river\n",
      "Processing record 459 of 613 | narrabri\n",
      "Processing record 460 of 613 | chimbote\n",
      "Processing record 461 of 613 | wonogiri\n",
      "Processing record 462 of 613 | matara\n",
      "Processing record 463 of 613 | aljezur\n",
      "Processing record 464 of 613 | rio gallegos\n",
      "City not found.  Skipping.\n",
      "Processing record 465 of 613 | parsabad\n",
      "Processing record 466 of 613 | kazachinskoye\n",
      "Processing record 467 of 613 | sandwick\n",
      "Processing record 468 of 613 | puerto cabezas\n",
      "Processing record 469 of 613 | maxixe\n",
      "City not found.  Skipping.\n",
      "City not found.  Skipping.\n",
      "Processing record 470 of 613 | kahului\n",
      "Processing record 471 of 613 | santa barbara\n",
      "Processing record 472 of 613 | cairns\n",
      "Processing record 473 of 613 | aleksandrovsk-sakhalinskiy\n",
      "City not found.  Skipping.\n",
      "Processing record 474 of 613 | west bay\n",
      "Processing record 475 of 613 | kogon\n",
      "Processing record 476 of 613 | kununurra\n",
      "Processing record 477 of 613 | antsohihy\n",
      "Processing record 478 of 613 | estelle\n",
      "Processing record 479 of 613 | cockburn town\n",
      "Processing record 480 of 613 | zyryanka\n",
      "Processing record 481 of 613 | orlik\n",
      "Processing record 482 of 613 | lata\n",
      "City not found.  Skipping.\n",
      "Processing record 483 of 613 | sabzevar\n",
      "Processing record 484 of 613 | sandovo\n",
      "Processing record 485 of 613 | jumla\n",
      "Processing record 486 of 613 | linxia\n",
      "Processing record 487 of 613 | kandrian\n",
      "Processing record 488 of 613 | paita\n",
      "Processing record 489 of 613 | san andres\n",
      "Processing record 490 of 613 | lazaro cardenas\n",
      "Processing record 491 of 613 | tongren\n",
      "Processing record 492 of 613 | assiniboia\n",
      "Processing record 493 of 613 | kamenka\n",
      "City not found.  Skipping.\n",
      "Processing record 494 of 613 | bolobo\n",
      "Processing record 495 of 613 | puerto colombia\n",
      "Processing record 496 of 613 | andenes\n",
      "Processing record 497 of 613 | poronaysk\n",
      "Processing record 498 of 613 | manokwari\n",
      "Processing record 499 of 613 | nakhon thai\n",
      "Processing record 500 of 613 | filingue\n",
      "Processing record 501 of 613 | camana\n",
      "Processing record 502 of 613 | lashio\n",
      "City not found.  Skipping.\n",
      "Processing record 503 of 613 | dong hoi\n",
      "Processing record 504 of 613 | pekan\n",
      "Processing record 505 of 613 | batemans bay\n",
      "Processing record 506 of 613 | heidelberg\n",
      "Processing record 507 of 613 | miles city\n",
      "Processing record 508 of 613 | czluchow\n",
      "City not found.  Skipping.\n",
      "Processing record 509 of 613 | bonavista\n",
      "Processing record 510 of 613 | ginda\n",
      "Processing record 511 of 613 | sao joao da barra\n",
      "Processing record 512 of 613 | songjianghe\n",
      "Processing record 513 of 613 | kloulklubed\n",
      "Processing record 514 of 613 | soe\n",
      "Processing record 515 of 613 | mantua\n",
      "Processing record 516 of 613 | tucuman\n",
      "City not found.  Skipping.\n",
      "Processing record 517 of 613 | port augusta\n",
      "Processing record 518 of 613 | aqtobe\n",
      "Processing record 519 of 613 | asha\n",
      "City not found.  Skipping.\n",
      "Processing record 520 of 613 | laje\n",
      "Processing record 521 of 613 | sovetskiy\n",
      "Processing record 522 of 613 | kerrville\n",
      "Processing record 523 of 613 | spring valley\n",
      "Processing record 524 of 613 | vung tau\n",
      "Processing record 525 of 613 | virginia beach\n",
      "Processing record 526 of 613 | coquimbo\n",
      "Processing record 527 of 613 | dolores\n",
      "Processing record 528 of 613 | bratsk\n",
      "Processing record 529 of 613 | port hedland\n",
      "Processing record 530 of 613 | alattyan\n",
      "Processing record 531 of 613 | honningsvag\n",
      "Processing record 532 of 613 | general roca\n",
      "Processing record 533 of 613 | afyonkarahisar\n",
      "Processing record 534 of 613 | altamont\n",
      "Processing record 535 of 613 | constitucion\n",
      "Processing record 536 of 613 | chiang rai\n",
      "Processing record 537 of 613 | nichinan\n",
      "Processing record 538 of 613 | aleksandrovskoye\n",
      "Processing record 539 of 613 | paciran\n",
      "Processing record 540 of 613 | pingliang\n",
      "Processing record 541 of 613 | kiruna\n",
      "Processing record 542 of 613 | cukai\n",
      "Processing record 543 of 613 | viking\n",
      "Processing record 544 of 613 | semme\n",
      "Processing record 545 of 613 | timbiqui\n",
      "Processing record 546 of 613 | shimoda\n",
      "Processing record 547 of 613 | corinto\n",
      "Processing record 548 of 613 | awbari\n",
      "Processing record 549 of 613 | sungaipenuh\n",
      "Processing record 550 of 613 | benjamin constant\n",
      "Processing record 551 of 613 | zhicheng\n",
      "Processing record 552 of 613 | riverton\n",
      "Processing record 553 of 613 | borba\n",
      "Processing record 554 of 613 | praia\n",
      "City not found.  Skipping.\n",
      "Processing record 555 of 613 | qandala\n"
     ]
    }
   ],
   "source": [
    "#create empty lists\n",
    "temp = []\n",
    "humidity = []\n",
    "cloudiness = []\n",
    "windspeed = []\n",
    "lat = []\n",
    "lon = []\n",
    "country = []\n",
    "date = []\n",
    "name = []\n",
    "\n",
    "url = \"http://api.openweathermap.org/data/2.5/weather?\"\n",
    "units = \"imperial\"\n",
    "\n",
    "query_url = f\"{url}appid={weather_api_key}&units={units}&q=\"\n",
    "count = 1\n",
    "print(\"Begin data processing:\")\n",
    "print(\"----------------------\")\n",
    "for city in cities:\n",
    "    city_response = requests.get(query_url + city).json()\n",
    "    \n",
    "    try:\n",
    "        lat.append(city_response['coord']['lat'])\n",
    "        lon.append(city_response['coord']['lon'])\n",
    "        temp.append(city_response['main']['temp_max'])\n",
    "        humidity.append(city_response['main']['humidity'])\n",
    "        cloudiness.append(city_response['clouds']['all'])\n",
    "        windspeed.append(city_response['wind']['speed'])\n",
    "        country.append(city_response['sys']['country'])\n",
    "        date.append(city_response['dt'])\n",
    "        name.append(city_response['name'])\n",
    "        count += 1\n",
    "        print(f\"Processing record {count} of {len(cities)} | {city}\")\n",
    "    except:\n",
    "        print(\"City not found.  Skipping.\")\n",
    "    "
   ]
  },
  {
   "cell_type": "code",
   "execution_count": 6,
   "metadata": {},
   "outputs": [
    {
     "data": {
      "text/html": [
       "<div>\n",
       "<style scoped>\n",
       "    .dataframe tbody tr th:only-of-type {\n",
       "        vertical-align: middle;\n",
       "    }\n",
       "\n",
       "    .dataframe tbody tr th {\n",
       "        vertical-align: top;\n",
       "    }\n",
       "\n",
       "    .dataframe thead th {\n",
       "        text-align: right;\n",
       "    }\n",
       "</style>\n",
       "<table border=\"1\" class=\"dataframe\">\n",
       "  <thead>\n",
       "    <tr style=\"text-align: right;\">\n",
       "      <th></th>\n",
       "      <th>City</th>\n",
       "      <th>Country</th>\n",
       "      <th>Latitude</th>\n",
       "      <th>Longitude</th>\n",
       "      <th>Temperature (F)</th>\n",
       "      <th>Humidity</th>\n",
       "      <th>Cloudiness</th>\n",
       "      <th>Windspeed (mph)</th>\n",
       "      <th>Date</th>\n",
       "    </tr>\n",
       "  </thead>\n",
       "  <tbody>\n",
       "    <tr>\n",
       "      <th>0</th>\n",
       "      <td>Kota</td>\n",
       "      <td>IN</td>\n",
       "      <td>25.18</td>\n",
       "      <td>75.83</td>\n",
       "      <td>83.08</td>\n",
       "      <td>73</td>\n",
       "      <td>100</td>\n",
       "      <td>9.31</td>\n",
       "      <td>1594688651</td>\n",
       "    </tr>\n",
       "    <tr>\n",
       "      <th>1</th>\n",
       "      <td>Upernavik</td>\n",
       "      <td>GL</td>\n",
       "      <td>72.79</td>\n",
       "      <td>-56.15</td>\n",
       "      <td>40.55</td>\n",
       "      <td>89</td>\n",
       "      <td>99</td>\n",
       "      <td>17.43</td>\n",
       "      <td>1594688234</td>\n",
       "    </tr>\n",
       "    <tr>\n",
       "      <th>2</th>\n",
       "      <td>Ushuaia</td>\n",
       "      <td>AR</td>\n",
       "      <td>-54.80</td>\n",
       "      <td>-68.30</td>\n",
       "      <td>33.80</td>\n",
       "      <td>80</td>\n",
       "      <td>40</td>\n",
       "      <td>19.46</td>\n",
       "      <td>1594687978</td>\n",
       "    </tr>\n",
       "    <tr>\n",
       "      <th>3</th>\n",
       "      <td>Adelaide</td>\n",
       "      <td>AU</td>\n",
       "      <td>-34.93</td>\n",
       "      <td>138.60</td>\n",
       "      <td>48.99</td>\n",
       "      <td>93</td>\n",
       "      <td>0</td>\n",
       "      <td>1.12</td>\n",
       "      <td>1594688440</td>\n",
       "    </tr>\n",
       "    <tr>\n",
       "      <th>4</th>\n",
       "      <td>Bengkulu</td>\n",
       "      <td>ID</td>\n",
       "      <td>-3.80</td>\n",
       "      <td>102.27</td>\n",
       "      <td>77.05</td>\n",
       "      <td>84</td>\n",
       "      <td>100</td>\n",
       "      <td>3.62</td>\n",
       "      <td>1594688251</td>\n",
       "    </tr>\n",
       "  </tbody>\n",
       "</table>\n",
       "</div>"
      ],
      "text/plain": [
       "        City Country  Latitude  Longitude  Temperature (F)  Humidity  \\\n",
       "0       Kota      IN     25.18      75.83            83.08        73   \n",
       "1  Upernavik      GL     72.79     -56.15            40.55        89   \n",
       "2    Ushuaia      AR    -54.80     -68.30            33.80        80   \n",
       "3   Adelaide      AU    -34.93     138.60            48.99        93   \n",
       "4   Bengkulu      ID     -3.80     102.27            77.05        84   \n",
       "\n",
       "   Cloudiness  Windspeed (mph)        Date  \n",
       "0         100             9.31  1594688651  \n",
       "1          99            17.43  1594688234  \n",
       "2          40            19.46  1594687978  \n",
       "3           0             1.12  1594688440  \n",
       "4         100             3.62  1594688251  "
      ]
     },
     "execution_count": 6,
     "metadata": {},
     "output_type": "execute_result"
    }
   ],
   "source": [
    "weather_df = pd.DataFrame({\"City\": name,\n",
    "                          \"Country\": country,\n",
    "                          \"Latitude\": lat,\n",
    "                          \"Longitude\": lon,\n",
    "                          \"Temperature (F)\": temp,\n",
    "                          \"Humidity\": humidity,\n",
    "                          \"Cloudiness\": cloudiness,\n",
    "                          \"Windspeed (mph)\": windspeed,\n",
    "                          \"Date\": date})\n",
    "weather_df.head()"
   ]
  },
  {
   "cell_type": "markdown",
   "metadata": {},
   "source": [
    "### Convert Raw Data to DataFrame\n",
    "* Export the city data into a .csv.\n",
    "* Display the DataFrame"
   ]
  },
  {
   "cell_type": "code",
   "execution_count": 7,
   "metadata": {},
   "outputs": [],
   "source": [
    "weather_df.to_csv(output_data_file, index = False)"
   ]
  },
  {
   "cell_type": "code",
   "execution_count": 8,
   "metadata": {},
   "outputs": [
    {
     "data": {
      "text/plain": [
       "City               554\n",
       "Country            554\n",
       "Latitude           554\n",
       "Longitude          554\n",
       "Temperature (F)    554\n",
       "Humidity           554\n",
       "Cloudiness         554\n",
       "Windspeed (mph)    554\n",
       "Date               554\n",
       "dtype: int64"
      ]
     },
     "execution_count": 8,
     "metadata": {},
     "output_type": "execute_result"
    }
   ],
   "source": [
    "weather_df.count()"
   ]
  },
  {
   "cell_type": "markdown",
   "metadata": {},
   "source": [
    "## Inspect the data and remove the cities where the humidity > 100%.\n",
    "----\n",
    "Skip this step if there are no cities that have humidity > 100%. "
   ]
  },
  {
   "cell_type": "code",
   "execution_count": 9,
   "metadata": {},
   "outputs": [
    {
     "data": {
      "text/html": [
       "<div>\n",
       "<style scoped>\n",
       "    .dataframe tbody tr th:only-of-type {\n",
       "        vertical-align: middle;\n",
       "    }\n",
       "\n",
       "    .dataframe tbody tr th {\n",
       "        vertical-align: top;\n",
       "    }\n",
       "\n",
       "    .dataframe thead th {\n",
       "        text-align: right;\n",
       "    }\n",
       "</style>\n",
       "<table border=\"1\" class=\"dataframe\">\n",
       "  <thead>\n",
       "    <tr style=\"text-align: right;\">\n",
       "      <th></th>\n",
       "      <th>Latitude</th>\n",
       "      <th>Longitude</th>\n",
       "      <th>Temperature (F)</th>\n",
       "      <th>Humidity</th>\n",
       "      <th>Cloudiness</th>\n",
       "      <th>Windspeed (mph)</th>\n",
       "      <th>Date</th>\n",
       "    </tr>\n",
       "  </thead>\n",
       "  <tbody>\n",
       "    <tr>\n",
       "      <th>count</th>\n",
       "      <td>554.000000</td>\n",
       "      <td>554.000000</td>\n",
       "      <td>554.000000</td>\n",
       "      <td>554.000000</td>\n",
       "      <td>554.000000</td>\n",
       "      <td>554.000000</td>\n",
       "      <td>5.540000e+02</td>\n",
       "    </tr>\n",
       "    <tr>\n",
       "      <th>mean</th>\n",
       "      <td>20.945433</td>\n",
       "      <td>17.240217</td>\n",
       "      <td>67.632383</td>\n",
       "      <td>71.333935</td>\n",
       "      <td>49.140794</td>\n",
       "      <td>7.650253</td>\n",
       "      <td>1.594688e+09</td>\n",
       "    </tr>\n",
       "    <tr>\n",
       "      <th>std</th>\n",
       "      <td>33.723238</td>\n",
       "      <td>91.477250</td>\n",
       "      <td>14.099899</td>\n",
       "      <td>20.070636</td>\n",
       "      <td>40.350835</td>\n",
       "      <td>5.439141</td>\n",
       "      <td>2.203007e+02</td>\n",
       "    </tr>\n",
       "    <tr>\n",
       "      <th>min</th>\n",
       "      <td>-54.800000</td>\n",
       "      <td>-179.170000</td>\n",
       "      <td>32.000000</td>\n",
       "      <td>3.000000</td>\n",
       "      <td>0.000000</td>\n",
       "      <td>0.270000</td>\n",
       "      <td>1.594688e+09</td>\n",
       "    </tr>\n",
       "    <tr>\n",
       "      <th>25%</th>\n",
       "      <td>-7.760000</td>\n",
       "      <td>-64.585000</td>\n",
       "      <td>56.342500</td>\n",
       "      <td>61.000000</td>\n",
       "      <td>3.000000</td>\n",
       "      <td>3.480000</td>\n",
       "      <td>1.594688e+09</td>\n",
       "    </tr>\n",
       "    <tr>\n",
       "      <th>50%</th>\n",
       "      <td>26.385000</td>\n",
       "      <td>21.090000</td>\n",
       "      <td>69.160000</td>\n",
       "      <td>75.000000</td>\n",
       "      <td>46.500000</td>\n",
       "      <td>6.645000</td>\n",
       "      <td>1.594688e+09</td>\n",
       "    </tr>\n",
       "    <tr>\n",
       "      <th>75%</th>\n",
       "      <td>49.867500</td>\n",
       "      <td>99.830000</td>\n",
       "      <td>78.307500</td>\n",
       "      <td>87.000000</td>\n",
       "      <td>90.000000</td>\n",
       "      <td>10.290000</td>\n",
       "      <td>1.594689e+09</td>\n",
       "    </tr>\n",
       "    <tr>\n",
       "      <th>max</th>\n",
       "      <td>78.220000</td>\n",
       "      <td>178.420000</td>\n",
       "      <td>109.400000</td>\n",
       "      <td>100.000000</td>\n",
       "      <td>100.000000</td>\n",
       "      <td>59.010000</td>\n",
       "      <td>1.594689e+09</td>\n",
       "    </tr>\n",
       "  </tbody>\n",
       "</table>\n",
       "</div>"
      ],
      "text/plain": [
       "         Latitude   Longitude  Temperature (F)    Humidity  Cloudiness  \\\n",
       "count  554.000000  554.000000       554.000000  554.000000  554.000000   \n",
       "mean    20.945433   17.240217        67.632383   71.333935   49.140794   \n",
       "std     33.723238   91.477250        14.099899   20.070636   40.350835   \n",
       "min    -54.800000 -179.170000        32.000000    3.000000    0.000000   \n",
       "25%     -7.760000  -64.585000        56.342500   61.000000    3.000000   \n",
       "50%     26.385000   21.090000        69.160000   75.000000   46.500000   \n",
       "75%     49.867500   99.830000        78.307500   87.000000   90.000000   \n",
       "max     78.220000  178.420000       109.400000  100.000000  100.000000   \n",
       "\n",
       "       Windspeed (mph)          Date  \n",
       "count       554.000000  5.540000e+02  \n",
       "mean          7.650253  1.594688e+09  \n",
       "std           5.439141  2.203007e+02  \n",
       "min           0.270000  1.594688e+09  \n",
       "25%           3.480000  1.594688e+09  \n",
       "50%           6.645000  1.594688e+09  \n",
       "75%          10.290000  1.594689e+09  \n",
       "max          59.010000  1.594689e+09  "
      ]
     },
     "execution_count": 9,
     "metadata": {},
     "output_type": "execute_result"
    }
   ],
   "source": [
    "weather_df.describe()"
   ]
  },
  {
   "cell_type": "code",
   "execution_count": 10,
   "metadata": {},
   "outputs": [
    {
     "name": "stdout",
     "output_type": "stream",
     "text": [
      "[]\n"
     ]
    }
   ],
   "source": [
    "#  Get the indices of cities that have humidity over 100%.\n",
    "#humidity_100 = weather_df.loc[weather_df[\"Humidity\"] > 100,:]\n",
    "#humidity_100.count\n",
    "index_label = weather_df.query(\"Humidity > 100\").index.tolist()\n",
    "print(index_label)"
   ]
  },
  {
   "cell_type": "code",
   "execution_count": 11,
   "metadata": {},
   "outputs": [
    {
     "data": {
      "text/plain": [
       "City               554\n",
       "Country            554\n",
       "Latitude           554\n",
       "Longitude          554\n",
       "Temperature (F)    554\n",
       "Humidity           554\n",
       "Cloudiness         554\n",
       "Windspeed (mph)    554\n",
       "Date               554\n",
       "dtype: int64"
      ]
     },
     "execution_count": 11,
     "metadata": {},
     "output_type": "execute_result"
    }
   ],
   "source": [
    "# Make a new DataFrame equal to the city data to drop all humidity outliers by index.\n",
    "clean_city_data = weather_df.drop(index = index_label, inplace = False)\n",
    "# Passing \"inplace=False\" will make a copy of the city_data DataFrame, which we call \"clean_city_data\".\n",
    "clean_city_data.head()\n",
    "clean_city_data.count()"
   ]
  },
  {
   "cell_type": "code",
   "execution_count": 13,
   "metadata": {},
   "outputs": [],
   "source": [
    "# Extract relevant fields from the data frame\n",
    "\n",
    "\n",
    "# Export the City_Data into a csv\n",
    "clean_city_data.to_csv(output_data_file, index = False)"
   ]
  },
  {
   "cell_type": "markdown",
   "metadata": {},
   "source": [
    "## Plotting the Data\n",
    "* Use proper labeling of the plots using plot titles (including date of analysis) and axes labels.\n",
    "* Save the plotted figures as .pngs."
   ]
  },
  {
   "cell_type": "markdown",
   "metadata": {},
   "source": [
    "## Latitude vs. Temperature Plot"
   ]
  },
  {
   "cell_type": "code",
   "execution_count": 26,
   "metadata": {},
   "outputs": [
    {
     "data": {
      "text/html": [
       "<div>\n",
       "<style scoped>\n",
       "    .dataframe tbody tr th:only-of-type {\n",
       "        vertical-align: middle;\n",
       "    }\n",
       "\n",
       "    .dataframe tbody tr th {\n",
       "        vertical-align: top;\n",
       "    }\n",
       "\n",
       "    .dataframe thead th {\n",
       "        text-align: right;\n",
       "    }\n",
       "</style>\n",
       "<table border=\"1\" class=\"dataframe\">\n",
       "  <thead>\n",
       "    <tr style=\"text-align: right;\">\n",
       "      <th></th>\n",
       "      <th>Latitude</th>\n",
       "      <th>Longitude</th>\n",
       "      <th>Temperature (F)</th>\n",
       "      <th>Humidity</th>\n",
       "      <th>Cloudiness</th>\n",
       "      <th>Windspeed (mph)</th>\n",
       "      <th>Date</th>\n",
       "    </tr>\n",
       "  </thead>\n",
       "  <tbody>\n",
       "    <tr>\n",
       "      <th>count</th>\n",
       "      <td>554.000000</td>\n",
       "      <td>554.000000</td>\n",
       "      <td>554.000000</td>\n",
       "      <td>554.000000</td>\n",
       "      <td>554.000000</td>\n",
       "      <td>554.000000</td>\n",
       "      <td>5.540000e+02</td>\n",
       "    </tr>\n",
       "    <tr>\n",
       "      <th>mean</th>\n",
       "      <td>20.945433</td>\n",
       "      <td>17.240217</td>\n",
       "      <td>67.632383</td>\n",
       "      <td>71.333935</td>\n",
       "      <td>49.140794</td>\n",
       "      <td>7.650253</td>\n",
       "      <td>1.594688e+09</td>\n",
       "    </tr>\n",
       "    <tr>\n",
       "      <th>std</th>\n",
       "      <td>33.723238</td>\n",
       "      <td>91.477250</td>\n",
       "      <td>14.099899</td>\n",
       "      <td>20.070636</td>\n",
       "      <td>40.350835</td>\n",
       "      <td>5.439141</td>\n",
       "      <td>2.203007e+02</td>\n",
       "    </tr>\n",
       "    <tr>\n",
       "      <th>min</th>\n",
       "      <td>-54.800000</td>\n",
       "      <td>-179.170000</td>\n",
       "      <td>32.000000</td>\n",
       "      <td>3.000000</td>\n",
       "      <td>0.000000</td>\n",
       "      <td>0.270000</td>\n",
       "      <td>1.594688e+09</td>\n",
       "    </tr>\n",
       "    <tr>\n",
       "      <th>25%</th>\n",
       "      <td>-7.760000</td>\n",
       "      <td>-64.585000</td>\n",
       "      <td>56.342500</td>\n",
       "      <td>61.000000</td>\n",
       "      <td>3.000000</td>\n",
       "      <td>3.480000</td>\n",
       "      <td>1.594688e+09</td>\n",
       "    </tr>\n",
       "    <tr>\n",
       "      <th>50%</th>\n",
       "      <td>26.385000</td>\n",
       "      <td>21.090000</td>\n",
       "      <td>69.160000</td>\n",
       "      <td>75.000000</td>\n",
       "      <td>46.500000</td>\n",
       "      <td>6.645000</td>\n",
       "      <td>1.594688e+09</td>\n",
       "    </tr>\n",
       "    <tr>\n",
       "      <th>75%</th>\n",
       "      <td>49.867500</td>\n",
       "      <td>99.830000</td>\n",
       "      <td>78.307500</td>\n",
       "      <td>87.000000</td>\n",
       "      <td>90.000000</td>\n",
       "      <td>10.290000</td>\n",
       "      <td>1.594689e+09</td>\n",
       "    </tr>\n",
       "    <tr>\n",
       "      <th>max</th>\n",
       "      <td>78.220000</td>\n",
       "      <td>178.420000</td>\n",
       "      <td>109.400000</td>\n",
       "      <td>100.000000</td>\n",
       "      <td>100.000000</td>\n",
       "      <td>59.010000</td>\n",
       "      <td>1.594689e+09</td>\n",
       "    </tr>\n",
       "  </tbody>\n",
       "</table>\n",
       "</div>"
      ],
      "text/plain": [
       "         Latitude   Longitude  Temperature (F)    Humidity  Cloudiness  \\\n",
       "count  554.000000  554.000000       554.000000  554.000000  554.000000   \n",
       "mean    20.945433   17.240217        67.632383   71.333935   49.140794   \n",
       "std     33.723238   91.477250        14.099899   20.070636   40.350835   \n",
       "min    -54.800000 -179.170000        32.000000    3.000000    0.000000   \n",
       "25%     -7.760000  -64.585000        56.342500   61.000000    3.000000   \n",
       "50%     26.385000   21.090000        69.160000   75.000000   46.500000   \n",
       "75%     49.867500   99.830000        78.307500   87.000000   90.000000   \n",
       "max     78.220000  178.420000       109.400000  100.000000  100.000000   \n",
       "\n",
       "       Windspeed (mph)          Date  \n",
       "count       554.000000  5.540000e+02  \n",
       "mean          7.650253  1.594688e+09  \n",
       "std           5.439141  2.203007e+02  \n",
       "min           0.270000  1.594688e+09  \n",
       "25%           3.480000  1.594688e+09  \n",
       "50%           6.645000  1.594688e+09  \n",
       "75%          10.290000  1.594689e+09  \n",
       "max          59.010000  1.594689e+09  "
      ]
     },
     "execution_count": 26,
     "metadata": {},
     "output_type": "execute_result"
    }
   ],
   "source": [
    "clean_city_data = pd.read_csv(output_data_file)\n",
    "clean_city_data.describe()"
   ]
  },
  {
   "cell_type": "code",
   "execution_count": 48,
   "metadata": {
    "scrolled": true
   },
   "outputs": [
    {
     "data": {
      "image/png": "[encoded data removed]",
      "text/plain": [
       "<Figure size 432x288 with 1 Axes>"
      ]
     },
     "metadata": {
      "needs_background": "light"
     },
     "output_type": "display_data"
    }
   ],
   "source": [
    "plt.scatter(clean_city_data[\"Latitude\"], clean_city_data[\"Temperature (F)\"])\n",
    "# Incorporate the other graph properties\n",
    "plt.title(\"Temperature vs. City Latitude  (07/13/20)\")\n",
    "plt.xlabel(\"Latitude\")\n",
    "plt.ylabel(\"Max Temperature (F)\")\n",
    "plt.xlim(-85,85)\n",
    "plt.ylim(25,115)\n",
    "plt.grid(True)\n",
    "plt.savefig(\"../Images/Fig1_lat_temp.png\")\n",
    "plt.show()"
   ]
  },
  {
   "cell_type": "markdown",
   "metadata": {},
   "source": [
    "This plot measures maximum temperature of 554 random cities on 7/13/2020 across different latitudes.  The scatter plot shows the lowest maximum temperatures at the latitude extremes and generally indicates that temperatures increase for cities nearer the equator (latitude = 0).  Interestingly, the maximum of the temperatures is in the Northern Hemisphere between 30-40 degrees latitude, which makes sense as the Northern Hemisphere is in the middle of summer when the data was obtained."
   ]
  },
  {
   "cell_type": "markdown",
   "metadata": {},
   "source": [
    "## Latitude vs. Humidity Plot"
   ]
  },
  {
   "cell_type": "code",
   "execution_count": 49,
   "metadata": {
    "scrolled": true
   },
   "outputs": [
    {
     "data": {
      "image/png": "[encoded data removed]",
      "text/plain": [
       "<Figure size 432x288 with 1 Axes>"
      ]
     },
     "metadata": {
      "needs_background": "light"
     },
     "output_type": "display_data"
    }
   ],
   "source": [
    "plt.scatter(clean_city_data[\"Latitude\"], clean_city_data[\"Humidity\"])\n",
    "# Incorporate the other graph properties\n",
    "plt.title(\"Humidity vs. City Latitude  (07/13/20)\")\n",
    "plt.xlabel(\"Latitude\")\n",
    "plt.ylabel(\"Humidity (%)\")\n",
    "plt.xlim(-85,85)\n",
    "plt.grid(True)\n",
    "plt.savefig(\"../Images/Fig2_lat_humidity.png\")\n",
    "plt.show()"
   ]
  },
  {
   "cell_type": "markdown",
   "metadata": {},
   "source": [
    "This plot measures % humidity of 554 random cities on 7/13/2020 across different latitudes.  Cities near the equator have a narrow range of % humidities(65%-100%), whereas the range of % humidity is more spread out for cities not near the equator."
   ]
  },
  {
   "cell_type": "markdown",
   "metadata": {},
   "source": [
    "## Latitude vs. Cloudiness Plot"
   ]
  },
  {
   "cell_type": "code",
   "execution_count": 51,
   "metadata": {
    "scrolled": true
   },
   "outputs": [
    {
     "data": {
      "image/png": "[encoded data removed]",
      "text/plain": [
       "<Figure size 432x288 with 1 Axes>"
      ]
     },
     "metadata": {
      "needs_background": "light"
     },
     "output_type": "display_data"
    }
   ],
   "source": [
    "plt.scatter(clean_city_data[\"Latitude\"], clean_city_data[\"Cloudiness\"])\n",
    "# Incorporate the other graph properties\n",
    "plt.title(\"Percent Cloudiness vs. City Latitude (07/13/20)\")\n",
    "plt.xlabel(\"Latitude\")\n",
    "plt.ylabel(\"Cloudiness (%)\")\n",
    "plt.xlim(-85,85)\n",
    "plt.grid(True)\n",
    "plt.savefig(\"../Images/Fig3_lat_cloud.png\")\n",
    "plt.show()"
   ]
  },
  {
   "cell_type": "markdown",
   "metadata": {},
   "source": [
    "This plot measures % cloudiness of 554 random cities on 7/13/2020 across different latitudes. There does not appear to be any relationship between percent cloudiness and the latitude."
   ]
  },
  {
   "cell_type": "markdown",
   "metadata": {},
   "source": [
    "## Latitude vs. Wind Speed Plot"
   ]
  },
  {
   "cell_type": "code",
   "execution_count": 52,
   "metadata": {
    "scrolled": true
   },
   "outputs": [
    {
     "data": {
      "image/png": "[encoded data removed]",
      "text/plain": [
       "<Figure size 432x288 with 1 Axes>"
      ]
     },
     "metadata": {
      "needs_background": "light"
     },
     "output_type": "display_data"
    }
   ],
   "source": [
    "plt.scatter(clean_city_data[\"Latitude\"], clean_city_data[\"Windspeed (mph)\"])\n",
    "# Incorporate the other graph properties\n",
    "plt.title(\"Wind Speed vs. City Latitude (07/13/20)\")\n",
    "plt.xlabel(\"Latitude\")\n",
    "plt.ylabel(\"Wind Speed (mph)\")\n",
    "plt.xlim(-85,85)\n",
    "plt.grid(True)\n",
    "plt.savefig(\"../Images/Fig4_lat_wind.png\")\n",
    "plt.show()"
   ]
  },
  {
   "cell_type": "markdown",
   "metadata": {},
   "source": [
    "This plot measures wind speed of 554 random cities on 7/13/2020 across different latitudes. There does not appear to be any relationship between wind speed and the latitude.  Most cities have a wind speed of < 20mph; there is one outlier city with a wind speed of 60 mph."
   ]
  },
  {
   "cell_type": "markdown",
   "metadata": {},
   "source": [
    "## Linear Regression"
   ]
  },
  {
   "cell_type": "code",
   "execution_count": 7,
   "metadata": {},
   "outputs": [],
   "source": [
    "# OPTIONAL: Create a function to create Linear Regression plots\n",
    "def regression(x_values, y_values):\n",
    "    (slope, intercept, rvalue, pvalue, stderr) = linregress(x_values, y_values)\n",
    "    regress_values = x_values * slope + intercept\n",
    "    line_eq = \"y = \" + str(round(slope,2)) + \"x + \" + str(round(intercept,2))\n",
    "    print(f\"The r-squared is: {round(rvalue**2,3)}\")\n",
    "    plt.scatter(x_values,y_values)\n",
    "    plt.plot(x_values,regress_values,\"r-\")\n",
    "    return line_eq\n",
    "    print(line_eq)"
   ]
  },
  {
   "cell_type": "code",
   "execution_count": 8,
   "metadata": {
    "scrolled": true
   },
   "outputs": [
    {
     "name": "stdout",
     "output_type": "stream",
     "text": [
      "The number of cities in the Northern Hemisphere: 379\n",
      "The number of cities in the Southern Hemisphere: 175\n"
     ]
    }
   ],
   "source": [
    "# Create Northern and Southern Hemisphere DataFrames\n",
    "northern_hem_df = clean_city_data.loc[clean_city_data[\"Latitude\"] > 0,:]\n",
    "southern_hem_df = clean_city_data.loc[clean_city_data[\"Latitude\"] < 0,:]\n",
    "print(f\"The number of cities in the Northern Hemisphere: {northern_hem_df.City.count()}\")\n",
    "print(f\"The number of cities in the Southern Hemisphere: {southern_hem_df.City.count()}\")\n"
   ]
  },
  {
   "cell_type": "markdown",
   "metadata": {},
   "source": [
    "####  Northern Hemisphere - Max Temp vs. Latitude Linear Regression"
   ]
  },
  {
   "cell_type": "code",
   "execution_count": 53,
   "metadata": {},
   "outputs": [
    {
     "name": "stdout",
     "output_type": "stream",
     "text": [
      "The r-squared is: 0.453\n"
     ]
    },
    {
     "data": {
      "image/png": "[encoded data removed]",
      "text/plain": [
       "<Figure size 432x288 with 1 Axes>"
      ]
     },
     "metadata": {
      "needs_background": "light"
     },
     "output_type": "display_data"
    }
   ],
   "source": [
    "res1=regression(northern_hem_df[\"Latitude\"],northern_hem_df[\"Temperature (F)\"])\n",
    "plt.title(\"Temperature vs. Northern Hemisphere City Latitude (07/13/20)\")\n",
    "plt.xlabel(\"Latitude\")\n",
    "plt.ylabel(\"Max Temperature (F)\")\n",
    "plt.annotate(res1,(5,35),fontsize=15,color=\"red\")\n",
    "plt.xlim(-5,85)\n",
    "plt.ylim(25,115)\n",
    "plt.savefig(\"../Images/Fig5_NHr_lat_temp.png\")\n",
    "plt.show()"
   ]
  },
  {
   "cell_type": "markdown",
   "metadata": {},
   "source": [
    "In the Northern Hemisphere, as latitude increases (away from the equator) the max temperature decreases.  The regression model only accounts for 45% of the variance in the temperature data."
   ]
  },
  {
   "cell_type": "markdown",
   "metadata": {},
   "source": [
    "####  Southern Hemisphere - Max Temp vs. Latitude Linear Regression"
   ]
  },
  {
   "cell_type": "code",
   "execution_count": 60,
   "metadata": {
    "scrolled": true
   },
   "outputs": [
    {
     "name": "stdout",
     "output_type": "stream",
     "text": [
      "The r-squared is: 0.65\n"
     ]
    },
    {
     "data": {
      "image/png": "[encoded data removed]",
      "text/plain": [
       "<Figure size 432x288 with 1 Axes>"
      ]
     },
     "metadata": {
      "needs_background": "light"
     },
     "output_type": "display_data"
    }
   ],
   "source": [
    "res2 = regression(southern_hem_df[\"Latitude\"], southern_hem_df[\"Temperature (F)\"])\n",
    "plt.title(\"Temperature vs. Southern Hemisphere City Latitude (07/13/20)\")\n",
    "plt.xlabel(\"Latitude\")\n",
    "plt.ylabel(\"Max Temperature (F)\")\n",
    "plt.xlim(-60,5)\n",
    "plt.ylim(25,115)\n",
    "plt.annotate(res2,(-25,35),fontsize=15,color=\"red\")\n",
    "plt.savefig(\"../Images/Fig6_SHr_lat_temp.png\")\n",
    "plt.show()"
   ]
  },
  {
   "cell_type": "markdown",
   "metadata": {},
   "source": [
    "In the Southern Hemisphere, as the latitude decreases (moves away from the equator) the max temperature decreases.  The correlation is higher than in the Northern Hemisphere and the regression model accounts for more of the variance (65%) in the  temperature data.  Interestingly, there are over twice as many cities in the Northern Hemisphere as compared to the Southern Hemisphere.  Of note, the range of latitudes in the Southern Hemisphere is smaller than that in the Northern Hemisphere by about 20 degrees."
   ]
  },
  {
   "cell_type": "markdown",
   "metadata": {},
   "source": [
    "####  Northern Hemisphere - Humidity (%) vs. Latitude Linear Regression"
   ]
  },
  {
   "cell_type": "code",
   "execution_count": 54,
   "metadata": {
    "scrolled": true
   },
   "outputs": [
    {
     "name": "stdout",
     "output_type": "stream",
     "text": [
      "The r-squared is: 0.001\n"
     ]
    },
    {
     "data": {
      "image/png": "[encoded data removed]",
      "text/plain": [
       "<Figure size 432x288 with 1 Axes>"
      ]
     },
     "metadata": {
      "needs_background": "light"
     },
     "output_type": "display_data"
    }
   ],
   "source": [
    "res3=regression(northern_hem_df[\"Latitude\"],northern_hem_df[\"Humidity\"])\n",
    "plt.title(\"Humidity vs. Northern Hemisphere City Latitude (07/13/20)\")\n",
    "plt.xlabel(\"Latitude\")\n",
    "plt.ylabel(\"Humidity (%)\")\n",
    "plt.xlim(-5,85)\n",
    "plt.ylim(0,105)\n",
    "plt.annotate(res3,(47,10),fontsize=15,color=\"red\")\n",
    "plt.savefig(\"../Images/Fig7_NHr_lat_humid.png\")\n",
    "plt.show()"
   ]
  },
  {
   "cell_type": "markdown",
   "metadata": {},
   "source": [
    "Regression analysis indicates that there is no correlation between latitude and % humidity in the Northern Hemisphere."
   ]
  },
  {
   "cell_type": "markdown",
   "metadata": {},
   "source": [
    "####  Southern Hemisphere - Humidity (%) vs. Latitude Linear Regression"
   ]
  },
  {
   "cell_type": "code",
   "execution_count": 59,
   "metadata": {
    "scrolled": true
   },
   "outputs": [
    {
     "name": "stdout",
     "output_type": "stream",
     "text": [
      "The r-squared is: 0.008\n"
     ]
    },
    {
     "data": {
      "image/png": "[encoded data removed]",
      "text/plain": [
       "<Figure size 432x288 with 1 Axes>"
      ]
     },
     "metadata": {
      "needs_background": "light"
     },
     "output_type": "display_data"
    }
   ],
   "source": [
    "res4 = regression(southern_hem_df[\"Latitude\"], southern_hem_df[\"Humidity\"])\n",
    "plt.title(\"Humidity vs. Southern Hemisphere City Latitude (07/13/20)\")\n",
    "plt.xlabel(\"Latitude\")\n",
    "plt.ylabel(\"Humidity (%)\")\n",
    "plt.xlim(-60,5)\n",
    "plt.ylim(0,105)\n",
    "plt.annotate(res4,(-55,20),fontsize=15,color=\"red\")\n",
    "plt.savefig(\"../Images/Fig8_SHr_lat_humid.png\")\n",
    "plt.show()"
   ]
  },
  {
   "cell_type": "markdown",
   "metadata": {},
   "source": [
    "Regression analysis indicates that there is no correlation between latitude and % humidity in the Southern Hemisphere."
   ]
  },
  {
   "cell_type": "markdown",
   "metadata": {},
   "source": [
    "####  Northern Hemisphere - Cloudiness (%) vs. Latitude Linear Regression"
   ]
  },
  {
   "cell_type": "code",
   "execution_count": 55,
   "metadata": {
    "scrolled": true
   },
   "outputs": [
    {
     "name": "stdout",
     "output_type": "stream",
     "text": [
      "The r-squared is: 0.006\n"
     ]
    },
    {
     "data": {
      "image/png": "[encoded data removed]",
      "text/plain": [
       "<Figure size 432x288 with 1 Axes>"
      ]
     },
     "metadata": {
      "needs_background": "light"
     },
     "output_type": "display_data"
    }
   ],
   "source": [
    "res5=regression(northern_hem_df[\"Latitude\"],northern_hem_df[\"Cloudiness\"])\n",
    "plt.title(\"Percent Cloudiness vs. Northern Hemisphere City Latitude (07/13/20)\")\n",
    "plt.xlabel(\"Latitude\")\n",
    "plt.ylabel(\"Cloudiness (%)\")\n",
    "plt.xlim(-5,85)\n",
    "plt.annotate(res5,(5,30),fontsize=15,color=\"red\")\n",
    "plt.savefig(\"../Images/Fig9_NHr_lat_cloud.png\")\n",
    "plt.show()"
   ]
  },
  {
   "cell_type": "markdown",
   "metadata": {},
   "source": [
    "Regression analysis indicates that there is no correlation between latitude and % cloudiness in the Northern Hemisphere."
   ]
  },
  {
   "cell_type": "markdown",
   "metadata": {},
   "source": [
    "####  Southern Hemisphere - Cloudiness (%) vs. Latitude Linear Regression"
   ]
  },
  {
   "cell_type": "code",
   "execution_count": 58,
   "metadata": {
    "scrolled": true
   },
   "outputs": [
    {
     "name": "stdout",
     "output_type": "stream",
     "text": [
      "The r-squared is: 0.013\n"
     ]
    },
    {
     "data": {
      "image/png": "[encoded data removed]",
      "text/plain": [
       "<Figure size 432x288 with 1 Axes>"
      ]
     },
     "metadata": {
      "needs_background": "light"
     },
     "output_type": "display_data"
    }
   ],
   "source": [
    "res6 = regression(southern_hem_df[\"Latitude\"], southern_hem_df[\"Cloudiness\"])\n",
    "plt.title(\"Percent Cloudiness vs. Southern Hemisphere City Latitude (07/13/20)\")\n",
    "plt.xlabel(\"Latitude\")\n",
    "plt.ylabel(\"Cloudiness (%)\")\n",
    "plt.xlim(-60,5)\n",
    "plt.annotate(res6,(-45,50),fontsize=15,color=\"red\")\n",
    "plt.savefig(\"../Images/Fig10_SHr_lat_cloud.png\")\n",
    "plt.show()"
   ]
  },
  {
   "cell_type": "markdown",
   "metadata": {},
   "source": [
    "Regression analysis indicates that there is no correlation between latitude and % cloudiness in the Southern Hemisphere."
   ]
  },
  {
   "cell_type": "markdown",
   "metadata": {},
   "source": [
    "####  Northern Hemisphere - Wind Speed (mph) vs. Latitude Linear Regression"
   ]
  },
  {
   "cell_type": "code",
   "execution_count": 56,
   "metadata": {
    "scrolled": true
   },
   "outputs": [
    {
     "name": "stdout",
     "output_type": "stream",
     "text": [
      "The r-squared is: 0.01\n"
     ]
    },
    {
     "data": {
      "image/png": "[encoded data removed]",
      "text/plain": [
       "<Figure size 432x288 with 1 Axes>"
      ]
     },
     "metadata": {
      "needs_background": "light"
     },
     "output_type": "display_data"
    }
   ],
   "source": [
    "res7=regression(northern_hem_df[\"Latitude\"],northern_hem_df[\"Windspeed (mph)\"])\n",
    "plt.title(\"Wind Speed vs. Northern Hemisphere City Latitude (07/13/20)\")\n",
    "plt.xlabel(\"Latitude\")\n",
    "plt.ylabel(\"Windspeed (mph)\")\n",
    "plt.xlim(-5,85)\n",
    "plt.ylim(-5,65)\n",
    "plt.annotate(res7,(40,40),fontsize=15,color=\"red\")\n",
    "plt.savefig(\"../Images/Fig11_NHr_lat_wind.png\")\n",
    "plt.show()"
   ]
  },
  {
   "cell_type": "markdown",
   "metadata": {},
   "source": [
    "Regression analysis indicates that there is no correlation between latitude and wind speed in the Northern Hemisphere."
   ]
  },
  {
   "cell_type": "markdown",
   "metadata": {},
   "source": [
    "####  Southern Hemisphere - Wind Speed (mph) vs. Latitude Linear Regression"
   ]
  },
  {
   "cell_type": "code",
   "execution_count": 57,
   "metadata": {
    "scrolled": true
   },
   "outputs": [
    {
     "name": "stdout",
     "output_type": "stream",
     "text": [
      "The r-squared is: 0.052\n"
     ]
    },
    {
     "data": {
      "image/png": "[encoded data removed]",
      "text/plain": [
       "<Figure size 432x288 with 1 Axes>"
      ]
     },
     "metadata": {
      "needs_background": "light"
     },
     "output_type": "display_data"
    }
   ],
   "source": [
    "res8 = regression(southern_hem_df[\"Latitude\"], southern_hem_df[\"Windspeed (mph)\"])\n",
    "plt.title(\"Wind Speed vs. Southern Hemisphere City Latitude (07/13/20)\")\n",
    "plt.xlabel(\"Latitude\")\n",
    "plt.ylabel(\"Wind Speed (mph)\")\n",
    "plt.xlim(-60,5)\n",
    "plt.ylim(-5,65)\n",
    "plt.annotate(res8,(-25,40),fontsize=15,color=\"red\")\n",
    "plt.savefig(\"../Images/Fig12_SHr_lat_wind.png\")\n",
    "plt.show()"
   ]
  },
  {
   "cell_type": "markdown",
   "metadata": {},
   "source": [
    "Regression analysis indicates that there is no correlation between latitude and wind speed in the Southern Hemisphere."
   ]
  },
  {
   "cell_type": "code",
   "execution_count": null,
   "metadata": {},
   "outputs": [],
   "source": []
  }
 ],
 "metadata": {
  "anaconda-cloud": {},
  "kernel_info": {
   "name": "python3"
  },
  "kernelspec": {
   "display_name": "Python [conda env:PythonData] *",
   "language": "python",
   "name": "conda-env-PythonData-py"
  },
  "language_info": {
   "codemirror_mode": {
    "name": "ipython",
    "version": 3
   },
   "file_extension": ".py",
   "mimetype": "text/x-python",
   "name": "python",
   "nbconvert_exporter": "python",
   "pygments_lexer": "ipython3",
   "version": "3.6.10"
  },
  "latex_envs": {
   "LaTeX_envs_menu_present": true,
   "autoclose": false,
   "autocomplete": true,
   "bibliofile": "biblio.bib",
   "cite_by": "apalike",
   "current_citInitial": 1,
   "eqLabelWithNumbers": true,
   "eqNumInitial": 1,
   "hotkeys": {
    "equation": "Ctrl-E",
    "itemize": "Ctrl-I"
   },
   "labels_anchors": false,
   "latex_user_defs": false,
   "report_style_numbering": false,
   "user_envs_cfg": false
  },
  "nteract": {
   "version": "0.12.3"
  }
 },
 "nbformat": 4,
 "nbformat_minor": 2
}
